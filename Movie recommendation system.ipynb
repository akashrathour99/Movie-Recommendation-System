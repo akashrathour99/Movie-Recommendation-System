{
 "cells": [
  {
   "cell_type": "code",
   "execution_count": null,
   "id": "b825c4fa",
   "metadata": {},
   "outputs": [],
   "source": [
    "import pandas as pd\n",
    "import numpy as np\n",
    "import warnings"
   ]
  },
  {
   "cell_type": "code",
   "execution_count": null,
   "id": "1fd51bf7",
   "metadata": {},
   "outputs": [],
   "source": [
    "warnings.filterwarnings('ignore')"
   ]
  },
  {
   "cell_type": "markdown",
   "id": "0abd3b78",
   "metadata": {},
   "source": [
    "## Reading data"
   ]
  },
  {
   "cell_type": "code",
   "execution_count": null,
   "id": "c57b97d9",
   "metadata": {},
   "outputs": [],
   "source": [
    "columns=['user_id','item_id','rating','timestamp']\n",
    "df=pd.read_csv(\"u.data\",sep=\"\\t\",names=columns)"
   ]
  },
  {
   "cell_type": "code",
   "execution_count": null,
   "id": "7aa0ea3d",
   "metadata": {},
   "outputs": [],
   "source": [
    "df"
   ]
  },
  {
   "cell_type": "markdown",
   "id": "fd41ff57",
   "metadata": {},
   "source": [
    "## Unique userm"
   ]
  },
  {
   "cell_type": "code",
   "execution_count": null,
   "id": "ba83f781",
   "metadata": {},
   "outputs": [],
   "source": [
    "unique_user=df['user_id'].nunique()"
   ]
  },
  {
   "cell_type": "code",
   "execution_count": null,
   "id": "e96fa2b5",
   "metadata": {},
   "outputs": [],
   "source": [
    "unique_user"
   ]
  },
  {
   "cell_type": "code",
   "execution_count": null,
   "id": "6c710a4a",
   "metadata": {},
   "outputs": [],
   "source": [
    "unique_item=df['item_id'].nunique()"
   ]
  },
  {
   "cell_type": "code",
   "execution_count": null,
   "id": "656d550c",
   "metadata": {},
   "outputs": [],
   "source": [
    "unique_item"
   ]
  },
  {
   "cell_type": "code",
   "execution_count": null,
   "id": "4664b4b2",
   "metadata": {},
   "outputs": [],
   "source": [
    "item_data=pd.read_csv('u.item',sep='\\|',header=None)"
   ]
  },
  {
   "cell_type": "markdown",
   "id": "e3fe89cc",
   "metadata": {},
   "source": [
    "## Getting item id and respective movie"
   ]
  },
  {
   "cell_type": "code",
   "execution_count": null,
   "id": "f98adeec",
   "metadata": {},
   "outputs": [],
   "source": [
    "item_data=item_data[[0,1]]"
   ]
  },
  {
   "cell_type": "code",
   "execution_count": null,
   "id": "203f3563",
   "metadata": {},
   "outputs": [],
   "source": [
    "item_data.columns=['item_id','name']\n",
    "item_data"
   ]
  },
  {
   "cell_type": "markdown",
   "id": "c578d014",
   "metadata": {},
   "source": [
    "## merging both dataframe"
   ]
  },
  {
   "cell_type": "code",
   "execution_count": null,
   "id": "c713fd92",
   "metadata": {},
   "outputs": [],
   "source": [
    "df=pd.merge(df,item_data,on='item_id')"
   ]
  },
  {
   "cell_type": "code",
   "execution_count": null,
   "id": "5779517a",
   "metadata": {},
   "outputs": [],
   "source": [
    "df.head()\n",
    "df.shape"
   ]
  },
  {
   "cell_type": "markdown",
   "id": "4db14bc5",
   "metadata": {},
   "source": [
    "## exploratory analysis"
   ]
  },
  {
   "cell_type": "code",
   "execution_count": null,
   "id": "c7155fcc",
   "metadata": {},
   "outputs": [],
   "source": [
    "import matplotlib.pyplot as plt\n",
    "import seaborn as sns\n",
    "sns.set_style('white')\n"
   ]
  },
  {
   "cell_type": "code",
   "execution_count": null,
   "id": "84b0b18a",
   "metadata": {},
   "outputs": [],
   "source": [
    "ratings=df.groupby('name').mean()['rating'].sort_values(ascending=False)"
   ]
  },
  {
   "cell_type": "code",
   "execution_count": null,
   "id": "730c80f7",
   "metadata": {},
   "outputs": [],
   "source": [
    "ratings"
   ]
  },
  {
   "cell_type": "code",
   "execution_count": null,
   "id": "f33efdf9",
   "metadata": {},
   "outputs": [],
   "source": [
    "#df=pd.DataFrame(df.groupby('name').mean()['rating'])"
   ]
  },
  {
   "cell_type": "code",
   "execution_count": null,
   "id": "2fa16258",
   "metadata": {},
   "outputs": [],
   "source": [
    "df.groupby('name').mean()['rating'].sort_values(ascending=False)"
   ]
  },
  {
   "cell_type": "code",
   "execution_count": null,
   "id": "b03fa783",
   "metadata": {},
   "outputs": [],
   "source": [
    "df.groupby('name').count()['rating'].sort_values(ascending=False)"
   ]
  },
  {
   "cell_type": "code",
   "execution_count": null,
   "id": "205a7500",
   "metadata": {
    "scrolled": true
   },
   "outputs": [],
   "source": [
    "data=pd.DataFrame(df.groupby('name').mean()['rating'])\n",
    "\n"
   ]
  },
  {
   "cell_type": "code",
   "execution_count": null,
   "id": "3ec37591",
   "metadata": {},
   "outputs": [],
   "source": [
    "data"
   ]
  },
  {
   "cell_type": "code",
   "execution_count": null,
   "id": "35ac9973",
   "metadata": {},
   "outputs": [],
   "source": [
    "data['number of rating']=df.groupby('name').count()['rating']"
   ]
  },
  {
   "cell_type": "code",
   "execution_count": null,
   "id": "198eab94",
   "metadata": {},
   "outputs": [],
   "source": [
    "data"
   ]
  },
  {
   "cell_type": "code",
   "execution_count": null,
   "id": "ca012760",
   "metadata": {},
   "outputs": [],
   "source": [
    "plt.figure(figsize=(16,5))\n",
    "plt.hist(data['number of rating'],bins=70)\n",
    "plt.show()"
   ]
  },
  {
   "cell_type": "code",
   "execution_count": null,
   "id": "2778fcc9",
   "metadata": {},
   "outputs": [],
   "source": [
    "plt.hist(data['rating'],bins=100)\n",
    "plt.show()"
   ]
  },
  {
   "cell_type": "code",
   "execution_count": null,
   "id": "3ba84a4b",
   "metadata": {},
   "outputs": [],
   "source": [
    "sns.jointplot(x='rating',y='number of rating',data=data,alpha=.1)"
   ]
  },
  {
   "cell_type": "markdown",
   "id": "d3be1eab",
   "metadata": {},
   "source": [
    "## Creating matrix of user id and name of movie"
   ]
  },
  {
   "cell_type": "code",
   "execution_count": null,
   "id": "cbd69f07",
   "metadata": {},
   "outputs": [],
   "source": [
    "movieMatrix=df.pivot_table(index=\"user_id\",columns=\"name\",values='rating')"
   ]
  },
  {
   "cell_type": "code",
   "execution_count": null,
   "id": "9054498b",
   "metadata": {},
   "outputs": [],
   "source": [
    "movieMatrix"
   ]
  },
  {
   "cell_type": "code",
   "execution_count": null,
   "id": "3dcff4f8",
   "metadata": {},
   "outputs": [],
   "source": [
    "data.sort_values('number of rating',ascending=False).head()"
   ]
  },
  {
   "cell_type": "markdown",
   "id": "0d0d9c94",
   "metadata": {},
   "source": [
    "## rating given by users for a movie"
   ]
  },
  {
   "cell_type": "code",
   "execution_count": null,
   "id": "d608c57d",
   "metadata": {},
   "outputs": [],
   "source": [
    "star_war_users_rating =movieMatrix['Star Wars (1977)']"
   ]
  },
  {
   "cell_type": "code",
   "execution_count": null,
   "id": "782c5327",
   "metadata": {},
   "outputs": [],
   "source": [
    "star_war_users_rating.head()"
   ]
  },
  {
   "cell_type": "markdown",
   "id": "60d84b3c",
   "metadata": {},
   "source": [
    "## correlate above ratings with movie matrix"
   ]
  },
  {
   "cell_type": "code",
   "execution_count": null,
   "id": "f68d276a",
   "metadata": {},
   "outputs": [],
   "source": [
    "similar_to_star_wars=movieMatrix.corrwith(star_war_users_rating)"
   ]
  },
  {
   "cell_type": "code",
   "execution_count": null,
   "id": "91496ae0",
   "metadata": {},
   "outputs": [],
   "source": [
    "similar_to_star_wars.head()"
   ]
  },
  {
   "cell_type": "markdown",
   "id": "f966946b",
   "metadata": {},
   "source": [
    "## now create new column for correlation"
   ]
  },
  {
   "cell_type": "code",
   "execution_count": null,
   "id": "339ec532",
   "metadata": {},
   "outputs": [],
   "source": [
    "corr_star=pd.DataFrame(similar_to_star_wars,columns=['correlation'])"
   ]
  },
  {
   "cell_type": "code",
   "execution_count": null,
   "id": "e7e9d31e",
   "metadata": {},
   "outputs": [],
   "source": [
    "corr_star"
   ]
  },
  {
   "cell_type": "code",
   "execution_count": null,
   "id": "867d0831",
   "metadata": {},
   "outputs": [],
   "source": [
    "corr_star.dropna(inplace=True)"
   ]
  },
  {
   "cell_type": "code",
   "execution_count": null,
   "id": "dc571065",
   "metadata": {},
   "outputs": [],
   "source": [
    "corr_star"
   ]
  },
  {
   "cell_type": "markdown",
   "id": "308cf703",
   "metadata": {},
   "source": [
    "## sort by correlation"
   ]
  },
  {
   "cell_type": "code",
   "execution_count": null,
   "id": "d75d9f19",
   "metadata": {},
   "outputs": [],
   "source": [
    "corr_star=corr_star.sort_values('correlation',ascending=False)"
   ]
  },
  {
   "cell_type": "code",
   "execution_count": null,
   "id": "3ff372bc",
   "metadata": {},
   "outputs": [],
   "source": [
    "corr_star.head(10)"
   ]
  },
  {
   "cell_type": "markdown",
   "id": "d33cdf15",
   "metadata": {},
   "source": [
    "## add ratings column"
   ]
  },
  {
   "cell_type": "code",
   "execution_count": null,
   "id": "432da0ba",
   "metadata": {},
   "outputs": [],
   "source": [
    "corr_star=corr_star.join(data['number of rating'])\n",
    "\n"
   ]
  },
  {
   "cell_type": "code",
   "execution_count": null,
   "id": "10d1dba7",
   "metadata": {},
   "outputs": [],
   "source": [
    "corr_star.head()"
   ]
  },
  {
   "cell_type": "markdown",
   "id": "1e0273ec",
   "metadata": {},
   "source": [
    "## remove the ratings which are under 100 user count"
   ]
  },
  {
   "cell_type": "code",
   "execution_count": null,
   "id": "1e7d9b2e",
   "metadata": {},
   "outputs": [],
   "source": [
    "corr_star[corr_star['number of rating']>100].sort_values('correlation',ascending=False)"
   ]
  },
  {
   "cell_type": "markdown",
   "id": "8b6288dc",
   "metadata": {},
   "source": [
    "# This is combined code or function which takes input movie name and return the highly correaled movie"
   ]
  },
  {
   "cell_type": "code",
   "execution_count": null,
   "id": "feb49be5",
   "metadata": {},
   "outputs": [],
   "source": [
    "\n",
    "def recommendation(movie):\n",
    "    movie_user_rating=movieMatrix[movie]\n",
    "    similar_to_movie=movieMatrix.corrwith(movie_user_rating)\n",
    "    corr_movie=pd.DataFrame(similar_to_movie,columns=['correlation'])\n",
    "    corr_movie.dropna(inplace=True)\n",
    "    corr_movie=corr_movie.join(data['number of rating'])\n",
    "    prediction=corr_movie[corr_movie['number of rating']>100].sort_values('correlation',ascending=False)\n",
    "    return prediction\n",
    "pred=recommendation('G.I. Jane (1997)')\n",
    "   "
   ]
  },
  {
   "cell_type": "code",
   "execution_count": null,
   "id": "a7d9140a",
   "metadata": {},
   "outputs": [],
   "source": [
    "print(\"Enter movie \")\n",
    "recommendation(input())"
   ]
  }
 ],
 "metadata": {
  "kernelspec": {
   "display_name": "Python 3",
   "language": "python",
   "name": "python3"
  },
  "language_info": {
   "codemirror_mode": {
    "name": "ipython",
    "version": 3
   },
   "file_extension": ".py",
   "mimetype": "text/x-python",
   "name": "python",
   "nbconvert_exporter": "python",
   "pygments_lexer": "ipython3",
   "version": "3.8.8"
  }
 },
 "nbformat": 4,
 "nbformat_minor": 5
}
